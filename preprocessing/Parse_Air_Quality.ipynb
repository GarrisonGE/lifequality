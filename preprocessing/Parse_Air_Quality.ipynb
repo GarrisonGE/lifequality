{
 "cells": [
  {
   "cell_type": "code",
   "execution_count": 48,
   "metadata": {
    "collapsed": true
   },
   "outputs": [
    {
     "data": {
      "text/plain": "  pollutant  value   latitude  longitude\n0       so2    1.0  28.964430 -95.354830\n1       no2   -4.0  29.043758 -95.472946\n2       no2    5.0  29.144290 -95.756600\n3        o3    4.6  29.144290 -95.756600\n4       no2   17.0  29.254473 -94.861290",
      "text/html": "<div>\n<style scoped>\n    .dataframe tbody tr th:only-of-type {\n        vertical-align: middle;\n    }\n\n    .dataframe tbody tr th {\n        vertical-align: top;\n    }\n\n    .dataframe thead th {\n        text-align: right;\n    }\n</style>\n<table border=\"1\" class=\"dataframe\">\n  <thead>\n    <tr style=\"text-align: right;\">\n      <th></th>\n      <th>pollutant</th>\n      <th>value</th>\n      <th>latitude</th>\n      <th>longitude</th>\n    </tr>\n  </thead>\n  <tbody>\n    <tr>\n      <th>0</th>\n      <td>so2</td>\n      <td>1.0</td>\n      <td>28.964430</td>\n      <td>-95.354830</td>\n    </tr>\n    <tr>\n      <th>1</th>\n      <td>no2</td>\n      <td>-4.0</td>\n      <td>29.043758</td>\n      <td>-95.472946</td>\n    </tr>\n    <tr>\n      <th>2</th>\n      <td>no2</td>\n      <td>5.0</td>\n      <td>29.144290</td>\n      <td>-95.756600</td>\n    </tr>\n    <tr>\n      <th>3</th>\n      <td>o3</td>\n      <td>4.6</td>\n      <td>29.144290</td>\n      <td>-95.756600</td>\n    </tr>\n    <tr>\n      <th>4</th>\n      <td>no2</td>\n      <td>17.0</td>\n      <td>29.254473</td>\n      <td>-94.861290</td>\n    </tr>\n  </tbody>\n</table>\n</div>"
     },
     "execution_count": 48,
     "metadata": {},
     "output_type": "execute_result"
    }
   ],
   "source": [
    "import pandas as pd\n",
    "import csv\n",
    "\n",
    "'''\n",
    "Garrsion: Read csv, keepling latitude, longitude, values of each pollution columns\n",
    "'''\n",
    "open_aq = pd.read_csv(\"/Users/jiahaoge/Personal/Courses/BigData-Management/Project/data/USAQ.csv\",\n",
    "                      usecols=['longitude','latitude','pollutant','value'])\n",
    "open_aq.loc[(open_aq['pollutant'] == 'so2'), ['value']] = open_aq['value'] * 10000\n",
    "open_aq.loc[(open_aq['pollutant'] == 'bc'), ['value']] = open_aq['value'] * 10\n",
    "open_aq.loc[(open_aq['pollutant'] == 'co'), ['value']] = open_aq['value'] * 10\n",
    "open_aq.loc[(open_aq['pollutant'] == 'no2'), ['value']] = open_aq['value'] * 10000\n",
    "open_aq.loc[(open_aq['pollutant'] == 'o3'), ['value']] = open_aq['value'] * 100\n",
    "open_aq.loc[(open_aq['pollutant'] == 'pm10'), ['value']] = open_aq['value'] * 1\n",
    "open_aq.loc[(open_aq['pollutant'] == 'pm25'), ['value']] = open_aq['value'] * 1\n",
    "\n",
    "open_aq.head()\n"
   ]
  },
  {
   "cell_type": "code",
   "execution_count": 50,
   "outputs": [
    {
     "name": "stdout",
     "output_type": "stream",
     "text": [
      "                       value\n",
      "latitude  longitude         \n",
      "18.009556 -66.627250   40.05\n",
      "18.419230 -66.150420    0.05\n",
      "18.428389 -66.141655   12.00\n",
      "18.431194 -66.141690    2.90\n",
      "19.117561 -155.778140   0.00\n",
      "...                      ...\n",
      "61.534164 -149.031660   8.50\n",
      "61.599000 -149.104000   3.50\n",
      "63.723300 -148.967500   4.40\n",
      "64.762970 -147.310300  -1.10\n",
      "64.845800 -147.727260   9.12\n",
      "\n",
      "[1984 rows x 1 columns]\n"
     ]
    }
   ],
   "source": [
    "group = open_aq.groupby([\"latitude\",\"longitude\"]).mean()\n",
    "print(group)\n",
    "\n",
    "group.to_csv(\"/Users/jiahaoge/Personal/Courses/BigData-Management/Project/data/Parse_USAQ.csv\")\n",
    "\n",
    "\n",
    "\n",
    "\n"
   ],
   "metadata": {
    "collapsed": false,
    "pycharm": {
     "name": "#%%\n"
    }
   }
  }
 ],
 "metadata": {
  "kernelspec": {
   "display_name": "Python 3",
   "language": "python",
   "name": "python3"
  },
  "language_info": {
   "codemirror_mode": {
    "name": "ipython",
    "version": 2
   },
   "file_extension": ".py",
   "mimetype": "text/x-python",
   "name": "python",
   "nbconvert_exporter": "python",
   "pygments_lexer": "ipython2",
   "version": "2.7.6"
  }
 },
 "nbformat": 4,
 "nbformat_minor": 0
}